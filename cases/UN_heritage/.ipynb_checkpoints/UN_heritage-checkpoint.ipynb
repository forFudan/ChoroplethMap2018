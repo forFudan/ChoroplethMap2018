{
 "cells": [
  {
   "cell_type": "code",
   "execution_count": 1,
   "metadata": {
    "collapsed": true
   },
   "outputs": [],
   "source": [
    "#!/usr/bin/python\n",
    "# -*- coding: GBK -*-\n",
    "%matplotlib inline\n",
    "from lxml import etree\n",
    "import pandas as pd\n",
    "import numpy as np\n",
    "import matplotlib\n",
    "import matplotlib.pyplot as plt\n",
    "import matplotlib.cm as cm\n",
    "from matplotlib.colors import Normalize\n",
    "from matplotlib.collections import PatchCollection\n",
    "from mpl_toolkits.basemap import Basemap\n",
    "from shapely.geometry import Point, Polygon, MultiPoint, MultiPolygon\n",
    "from shapely.prepared import prep\n",
    "from pysal.esda.mapclassify import Natural_Breaks as nb\n",
    "from descartes import PolygonPatch\n",
    "import fiona\n",
    "from itertools import chain"
   ]
  },
  {
   "cell_type": "code",
   "execution_count": 2,
   "metadata": {
    "collapsed": true
   },
   "outputs": [],
   "source": [
    "# Convenience functions for working with colour ramps and bars\n",
    "def colorbar_index(ncolors, cmap, labels=None, **kwargs):\n",
    "    \"\"\"\n",
    "    This is a convenience function to stop you making off-by-one errors\n",
    "    Takes a standard colour ramp, and discretizes it,\n",
    "    then draws a colour bar with correctly aligned labels\n",
    "    \"\"\"\n",
    "    cmap = cmap_discretize(cmap, ncolors)\n",
    "    mappable = cm.ScalarMappable(cmap=cmap)\n",
    "    mappable.set_array([])\n",
    "    mappable.set_clim(-0.5, ncolors+0.5)\n",
    "    colorbar = plt.colorbar(mappable, **kwargs)\n",
    "    colorbar.set_ticks(np.linspace(0, ncolors, ncolors))\n",
    "    colorbar.set_ticklabels(range(ncolors))\n",
    "    if labels:\n",
    "        colorbar.set_ticklabels(labels)\n",
    "    return colorbar\n",
    "\n",
    "def cmap_discretize(cmap, N):\n",
    "    \"\"\"\n",
    "    Return a discrete colormap from the continuous colormap cmap.\n",
    "\n",
    "        cmap: colormap instance, eg. cm.jet. \n",
    "        N: number of colors.\n",
    "\n",
    "    Example\n",
    "        x = resize(arange(100), (5,100))\n",
    "        djet = cmap_discretize(cm.jet, 5)\n",
    "        imshow(x, cmap=djet)\n",
    "\n",
    "    \"\"\"\n",
    "    if type(cmap) == str:\n",
    "        cmap = get_cmap(cmap)\n",
    "    colors_i = np.concatenate((np.linspace(0, 1., N), (0., 0., 0., 0.)))\n",
    "    colors_rgba = cmap(colors_i)\n",
    "    indices = np.linspace(0, 1., N + 1)\n",
    "    cdict = {}\n",
    "    for ki, key in enumerate(('red', 'green', 'blue')):\n",
    "        cdict[key] = [(indices[i], colors_rgba[i - 1, ki], colors_rgba[i, ki]) for i in range(N + 1)]\n",
    "    return matplotlib.colors.LinearSegmentedColormap(cmap.name + \"_%d\" % N, cdict, 1024)"
   ]
  },
  {
   "cell_type": "code",
   "execution_count": 3,
   "metadata": {
    "collapsed": true
   },
   "outputs": [],
   "source": [
    "tree = etree.parse(\"whc-en.xml\")\n",
    "root = tree.getroot()"
   ]
  },
  {
   "cell_type": "code",
   "execution_count": 4,
   "metadata": {
    "collapsed": false
   },
   "outputs": [],
   "source": [
    "output = dict()\n",
    "output['raw'] = []\n",
    "output['crs'] = []\n",
    "output['lon'] = []\n",
    "output['lat'] = []\n",
    "\n",
    "for each in root.xpath('row'):\n",
    "    each_lat = each.xpath('latitude')\n",
    "    output['lat'].append(each_lat[0].text)\n",
    "    each_lon = each.xpath('longitude')\n",
    "    output['lon'].append(each_lon[0].text)\n",
    "    each_crs = each.xpath('id_number')\n",
    "    output['crs'].append(each_crs[0].text)\n",
    "    each_raw = each.xpath('short_description')\n",
    "    output['raw'].append(each_raw[0].text)"
   ]
  },
  {
   "cell_type": "code",
   "execution_count": 5,
   "metadata": {
    "collapsed": true
   },
   "outputs": [],
   "source": [
    "df = pd.DataFrame(output)\n",
    "df = df.replace({'raw': 0}, None)\n",
    "df = df.dropna()\n",
    "df[['lon', 'lat']] = df[['lon', 'lat']].astype(float)"
   ]
  },
  {
   "cell_type": "code",
   "execution_count": 8,
   "metadata": {
    "collapsed": false
   },
   "outputs": [
    {
     "name": "stdout",
     "output_type": "stream",
     "text": [
      "[73.55770111084013, 18.159305572509766, 134.77392578125034, 53.56085968017585]\n",
      "w = 61.21622467041021, h = 35.40155410766609\n"
     ]
    }
   ],
   "source": [
    "shp = fiona.open('CHN_adm_shp/CHN_adm2.shp')\n",
    "bds = shp.bounds\n",
    "shp.close()\n",
    "extra = 0.01\n",
    "ll = (bds[0], bds[1]) # lower-left\n",
    "ur = (bds[2], bds[3]) # upper-right\n",
    "coords = list(chain(ll, ur))\n",
    "w, h = coords[2] - coords[0], coords[3] - coords[1]\n",
    "print(coords)\n",
    "print('w = {}, h = {}'.format(w, h))"
   ]
  },
  {
   "cell_type": "code",
   "execution_count": null,
   "metadata": {
    "collapsed": false
   },
   "outputs": [],
   "source": [
    "m = Basemap(\n",
    "    projection='tmerc',\n",
    "    lon_0 = (coords[0] + coords[2])/2,\n",
    "    lat_0 = (coords[1] + coords[3])/2,\n",
    "    ellps = 'WGS84',\n",
    "    llcrnrlon=coords[0] - extra + 0.05 * w,\n",
    "    llcrnrlat=coords[1] - extra - 0.1 * h,\n",
    "    urcrnrlon=coords[2] + extra + 0.05 * w,\n",
    "    urcrnrlat=coords[3] + extra - 0.1 * h,\n",
    "    lat_ts=0,\n",
    "    resolution='i',\n",
    "    suppress_ticks=True)"
   ]
  },
  {
   "cell_type": "code",
   "execution_count": null,
   "metadata": {
    "collapsed": false
   },
   "outputs": [],
   "source": [
    "m.readshapefile(\n",
    "    'CHN_adm_shp/CHN_adm2',\n",
    "    name='china',\n",
    "    color='none',\n",
    "    zorder=2)"
   ]
  },
  {
   "cell_type": "code",
   "execution_count": null,
   "metadata": {
    "collapsed": true
   },
   "outputs": [],
   "source": [
    "n = Basemap(\n",
    "    projection='tmerc',\n",
    "    lon_0 = (coords[0] + coords[2])/2,\n",
    "    lat_0 = (coords[1] + coords[3])/2,\n",
    "    ellps = 'WGS84',\n",
    "    llcrnrlon=coords[0] - extra + 0.05 * w,\n",
    "    llcrnrlat=coords[1] - extra - 0.1 * h,\n",
    "    urcrnrlon=coords[2] + extra + 0.05 * w,\n",
    "    urcrnrlat=coords[3] + extra - 0.1 * h,\n",
    "    lat_ts=0,\n",
    "    resolution='i',\n",
    "    suppress_ticks=True)"
   ]
  },
  {
   "cell_type": "code",
   "execution_count": null,
   "metadata": {
    "collapsed": false
   },
   "outputs": [],
   "source": [
    "n.readshapefile(\n",
    "    'TWN_adm_shp/TWN_adm1',\n",
    "    name='taiwan',\n",
    "    color='none',\n",
    "    zorder=2)"
   ]
  },
  {
   "cell_type": "code",
   "execution_count": null,
   "metadata": {
    "collapsed": false
   },
   "outputs": [],
   "source": [
    "# set up a map dataframe for China\n",
    "df_map_cn = pd.DataFrame({\n",
    "    'poly': [Polygon(xy) for xy in m.china],\n",
    "    'ward_name': [ward['NAME_2'] for ward in m.china_info]})\n",
    "df_map_cn['area_m'] = df_map_cn['poly'].map(lambda x: x.area)\n",
    "df_map_cn['area_km'] = df_map_cn['area_m'] / 100000"
   ]
  },
  {
   "cell_type": "code",
   "execution_count": null,
   "metadata": {
    "collapsed": false
   },
   "outputs": [],
   "source": [
    "# set up a map dataframe for Taiwan\n",
    "df_map_tw = pd.DataFrame({\n",
    "    'poly': [Polygon(xy) for xy in n.taiwan],\n",
    "    'ward_name': [ward['NAME_1'] for ward in n.taiwan_info]})\n",
    "df_map_tw['area_m'] = df_map_tw['poly'].map(lambda x: x.area)\n",
    "df_map_tw['area_km'] = df_map_tw['area_m'] / 100000"
   ]
  },
  {
   "cell_type": "code",
   "execution_count": null,
   "metadata": {
    "collapsed": false
   },
   "outputs": [],
   "source": [
    "rows_cn = df_map_cn.poly.count()\n",
    "rows_tw = df_map_tw.poly.count()\n",
    "df_map_tw.set_index([list(range(rows_cn+1, rows_cn+rows_tw+1))], inplace=True)"
   ]
  },
  {
   "cell_type": "code",
   "execution_count": null,
   "metadata": {
    "collapsed": true
   },
   "outputs": [],
   "source": [
    "df_map = df_map_cn.append(df_map_tw)"
   ]
  },
  {
   "cell_type": "code",
   "execution_count": null,
   "metadata": {
    "collapsed": false
   },
   "outputs": [],
   "source": [
    "# Create Point objects in map coordinates from dataframe lon and lat values\n",
    "map_points = pd.Series(\n",
    "    [Point(m(mapped_x, mapped_y)) for mapped_x, mapped_y in zip(df['lon'], df['lat'])])\n",
    "plaque_points = MultiPoint(list(map_points.values))\n",
    "wards_polygon = prep(MultiPolygon(list(df_map['poly'].values)))\n",
    "# calculate points that fall within the London boundary\n",
    "ldn_points = filter(wards_polygon.contains, plaque_points)\n",
    "ldn_points = list(ldn_points)"
   ]
  },
  {
   "cell_type": "code",
   "execution_count": null,
   "metadata": {
    "collapsed": false
   },
   "outputs": [],
   "source": [
    "# draw ward patches from polygons\n",
    "df_map['patches'] = df_map['poly'].map(lambda x: PolygonPatch(\n",
    "    x,\n",
    "    fc='#555555',\n",
    "    ec='#787878', lw=.25, alpha=.9,\n",
    "    zorder=4))\n",
    "\n",
    "plt.clf()\n",
    "fig = plt.figure()\n",
    "ax = fig.add_subplot(111, axisbg='w', frame_on=False)\n",
    "\n",
    "# we don't need to pass points to m() because we calculated using map_points and shapefile polygons\n",
    "dev = m.scatter(\n",
    "    [geom.x for geom in ldn_points],\n",
    "    [geom.y for geom in ldn_points],\n",
    "    5, marker='o', lw=.25,\n",
    "    facecolor='#33ccff', edgecolor='w',\n",
    "    alpha=0.9, antialiased=True,\n",
    "    label='World Heritages in China', zorder=3)\n",
    "# plot boroughs by adding the PatchCollection to the axes instance\n",
    "ax.add_collection(PatchCollection(df_map['patches'].values, match_original=True))\n",
    "# # copyright and source data info\n",
    "# smallprint = ax.text(\n",
    "#     1.03, -0.1,\n",
    "#     'Total heritages: %s \\nData from the UN' % len(ldn_points),\n",
    "#     ha='right', va='bottom',\n",
    "#     size=5,\n",
    "#     color='#555555',\n",
    "#     transform=ax.transAxes)\n",
    "\n",
    "# # Draw a map scale\n",
    "# m.drawmapscale(\n",
    "#     coords[0] + 0.2, coords[1] + 0.02,\n",
    "#     coords[0], coords[1],\n",
    "#     1000.,\n",
    "#     barstyle='fancy', labelstyle='simple',\n",
    "#     fillcolor1='w', fillcolor2='#555555',\n",
    "#     fontcolor='#555555',\n",
    "#     zorder=5)\n",
    "plt.title(\"World Heritage Locations, China\")\n",
    "plt.tight_layout()\n",
    "# this will set the image width to 722px at 100dpi\n",
    "fig.set_size_inches(5, 5)\n",
    "plt.savefig('Chinese_heritage.png', dpi=100, alpha=True)\n",
    "plt.show()"
   ]
  },
  {
   "cell_type": "markdown",
   "metadata": {},
   "source": [
    "Choropleth map."
   ]
  },
  {
   "cell_type": "code",
   "execution_count": null,
   "metadata": {
    "collapsed": false
   },
   "outputs": [],
   "source": [
    "df_map['count'] = df_map['poly'].map(lambda x: int(len(list(filter(prep(x).contains, ldn_points)))))\n",
    "df_map['density_m'] = df_map['count'] / df_map['area_m']\n",
    "df_map['density_km'] = df_map['count'] / df_map['area_km']\n",
    "# it's easier to work with NaN values when classifying\n",
    "df_map.replace(to_replace={'density_m': {0: np.nan}, 'density_km': {0: np.nan}}, inplace=True)"
   ]
  },
  {
   "cell_type": "code",
   "execution_count": null,
   "metadata": {
    "collapsed": false
   },
   "outputs": [],
   "source": [
    "# # Calculate Jenks natural breaks for density\n",
    "# breaks = nb(\n",
    "#     df_map[df_map['count'].notnull()]['count'].values,\n",
    "#     initial=300,\n",
    "#     k=5)\n",
    "# # the notnull method lets us match indices when joining\n",
    "# jb = pd.DataFrame({'jenks_bins': breaks.yb}, index=df_map[df_map['count'].notnull()].index)\n",
    "# df_map = df_map.join(jb)\n",
    "# df_map.jenks_bins.fillna(-1, inplace=True)\n",
    "# jenks_labels = [\"<= %0.1f\" % (b) for b in breaks.bins]\n",
    "# # jenks_labels.insert(0, 'No region (%s regions)' % len(df_map[df_map['density_km'].isnull()]))"
   ]
  },
  {
   "cell_type": "code",
   "execution_count": null,
   "metadata": {
    "collapsed": false
   },
   "outputs": [],
   "source": [
    "# # User-defined jenks bins\n",
    "# def self_categorize(entry, breaks):\n",
    "#     for i in range(len(breaks)-1):\n",
    "#         if entry > breaks[i] and entry <= breaks[i+1]:\n",
    "#             return i\n",
    "#     return -1\n",
    "\n",
    "# breaks = [0.] + [1., 2., 3. ,4. ,] + [1e20]\n",
    "# df_map['jenks_bins'] = df_map['count'].apply(self_categorize, args=(breaks,))\n",
    "# jenks_labels = ['No heritage sites']+[\"= %d heritages sites\"%(perc) for perc in breaks[:-1]]"
   ]
  },
  {
   "cell_type": "code",
   "execution_count": null,
   "metadata": {
    "collapsed": false
   },
   "outputs": [],
   "source": [
    "# # User-defined jenks bins\n",
    "# def self_categorize(entry, breaks):\n",
    "#     for i in range(len(breaks)-1):\n",
    "#         if entry >= breaks[i] and entry < breaks[i+1]:\n",
    "#             return i\n",
    "#     return 0\n",
    "\n",
    "# breaks = [0., 1., 2., 3. ,4. ,5.] + [1e20]\n",
    "# df_map['jenks_bins'] = df_map['count'].apply(self_categorize, args=(breaks,))\n",
    "# jenks_labels = [\"= %d heritages sites\"%(perc) for perc in breaks[:-1]]\n",
    "\n",
    "# print(jenks_labels)"
   ]
  },
  {
   "cell_type": "code",
   "execution_count": null,
   "metadata": {
    "collapsed": false
   },
   "outputs": [],
   "source": [
    "# User-defined jenks bins\n",
    "def self_categorize(entry, breaks):\n",
    "    for i in range(len(breaks)-1):\n",
    "        if entry >= breaks[i] and entry < breaks[i+1]:\n",
    "            return i\n",
    "    return 0\n",
    "\n",
    "breaks = [0., 1., 2., 3. ,4.] + [1e20]\n",
    "df_map['jenks_bins'] = df_map['count'].apply(self_categorize, args=(breaks,))\n",
    "jenks_labels = [\"= %d heritages sites\"%(perc) for perc in breaks[:-1]]\n",
    "\n",
    "print(jenks_labels)"
   ]
  },
  {
   "cell_type": "code",
   "execution_count": null,
   "metadata": {
    "collapsed": false,
    "scrolled": true
   },
   "outputs": [],
   "source": [
    "plt.clf()\n",
    "fig = plt.figure()\n",
    "ax = fig.add_subplot(111, axisbg='w', frame_on=False)\n",
    "\n",
    "# use a blue colour ramp - we'll be converting it to a map using cmap()\n",
    "cmap = plt.get_cmap('Blues')\n",
    "\n",
    "# draw wards with grey outlines\n",
    "df_map['patches'] = df_map['poly'].map(lambda x: PolygonPatch(x, ec='#555555', lw=.2, alpha=0.75, zorder=4))\n",
    "pc = PatchCollection(df_map['patches'], match_original=True)\n",
    "\n",
    "# impose our colour map onto the patch collection\n",
    "norm = Normalize()\n",
    "pc.set_facecolor(cmap(norm(df_map['jenks_bins'].values)))\n",
    "ax.add_collection(pc)\n",
    "\n",
    "# Add a colour bar\n",
    "cb = colorbar_index(ncolors=len(jenks_labels), cmap=cmap, shrink=0.5, labels=jenks_labels)\n",
    "cb.ax.tick_params(labelsize=6)\n",
    "\n",
    "# # Show highest densities, in descending order\n",
    "# highest = '\\n'.join(\n",
    "#     value[1] for _, value in df_map[(df_map['jenks_bins'] == 4)][:10].sort().iterrows())\n",
    "# highest = 'Most Dense Region:\\n' + highest\n",
    "\n",
    "# # Subtraction is necessary for precise y coordinate alignment\n",
    "# details = cb.ax.text(\n",
    "#     -1., 0 - 0.007,\n",
    "#     highest,\n",
    "#     ha='right', va='bottom',\n",
    "#     size=5,\n",
    "#     color='#555555')\n",
    "\n",
    "# Bin method, copyright and source data info\n",
    "smallprint = ax.text(\n",
    "    0.98, 0.08,\n",
    "    'Data from:\\n  UNESCO World Heritage Centre\\nPlotted by:\\n  ZHU Yuhao',\n",
    "    ha='left', va='bottom',\n",
    "    size=6,\n",
    "    color='#555555',\n",
    "    transform=ax.transAxes)\n",
    "\n",
    "m.scatter(\n",
    "    [geom.x for geom in ldn_points],\n",
    "    [geom.y for geom in ldn_points],\n",
    "    15, marker='o', lw=.5,\n",
    "    facecolor='grey', edgecolor='w',\n",
    "    alpha=0.9, antialiased=True,\n",
    "    label='World Heritages in China', zorder=3, ax=ax,)\n",
    "\n",
    "# # Draw a map scale\n",
    "# m.drawmapscale(coords[0] + 0.08, coords[1] + -0.01,\n",
    "#     (coords[0] + coords[2])/2, (coords[1] + coords[3])/2, length = 2000.,\n",
    "#     fontsize=6, barstyle='fancy', labelstyle='simple',\n",
    "#     fillcolor1='w', fillcolor2='#555555', fontcolor='#555555',\n",
    "#     zorder=0, ax=ax,)\n",
    "\n",
    "ax.set_title('World Heritages Sites in China')\n",
    "\n",
    "# this will set the image width to 722px at 100dpi\n",
    "plt.tight_layout()\n",
    "fig.set_size_inches(7.22, 5.25)\n",
    "plt.savefig('world_heritage_china_choropleth.png', dpi=200, alpha=True)\n",
    "plt.show()"
   ]
  },
  {
   "cell_type": "code",
   "execution_count": null,
   "metadata": {
    "collapsed": true
   },
   "outputs": [],
   "source": []
  }
 ],
 "metadata": {
  "kernelspec": {
   "display_name": "Python 3",
   "language": "python",
   "name": "python3"
  },
  "language_info": {
   "codemirror_mode": {
    "name": "ipython",
    "version": 3
   },
   "file_extension": ".py",
   "mimetype": "text/x-python",
   "name": "python",
   "nbconvert_exporter": "python",
   "pygments_lexer": "ipython3",
   "version": "3.6.0"
  }
 },
 "nbformat": 4,
 "nbformat_minor": 0
}
