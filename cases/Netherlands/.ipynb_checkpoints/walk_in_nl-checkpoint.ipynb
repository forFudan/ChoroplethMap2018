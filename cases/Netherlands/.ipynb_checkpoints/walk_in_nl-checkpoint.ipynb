{
 "cells": [
  {
   "cell_type": "code",
   "execution_count": 1,
   "metadata": {
    "collapsed": false
   },
   "outputs": [],
   "source": [
    "%matplotlib inline\n",
    "from lxml import etree\n",
    "import pandas as pd\n",
    "import numpy as np\n",
    "import matplotlib.pyplot as plt\n",
    "import matplotlib.cm as cm\n",
    "from matplotlib.colors import Normalize\n",
    "from matplotlib.collections import PatchCollection\n",
    "from mpl_toolkits.basemap import Basemap\n",
    "from shapely.geometry import Point, Polygon, MultiPoint, MultiPolygon\n",
    "from shapely.prepared import prep\n",
    "from pysal.esda.mapclassify import Natural_Breaks as nb\n",
    "from descartes import PolygonPatch\n",
    "import fiona\n",
    "from itertools import chain\n",
    "import json\n",
    "import datetime"
   ]
  },
  {
   "cell_type": "code",
   "execution_count": 2,
   "metadata": {
    "collapsed": false
   },
   "outputs": [],
   "source": [
    "with open('LocationHistory.json', 'r') as fh:\n",
    "    raw = json.loads(fh.read())\n",
    "\n",
    "ld = pd.DataFrame(raw['locations'])\n",
    "del(raw) #free up some memory\n",
    "# convert to typical units\n",
    "ld['latitudeE7'] = ld['latitudeE7']/float(1e7) \n",
    "ld['longitudeE7'] = ld['longitudeE7']/float(1e7)\n",
    "ld['timestampMs'] = ld['timestampMs'].map(lambda x: float(x)/1000) #to seconds\n",
    "ld['datetime'] = ld.timestampMs.map(datetime.datetime.fromtimestamp)\n",
    "# Rename fields based on the conversions we just did\n",
    "ld.rename(columns={'latitudeE7':'latitude', 'longitudeE7':'longitude', 'timestampMs':'timestamp'}, inplace=True)\n",
    "ld = ld[ld.accuracy < 1000] #Ignore locations with accuracy estimates over 1000m\n",
    "ld.reset_index(drop=True, inplace=True)"
   ]
  },
  {
   "cell_type": "code",
   "execution_count": 6,
   "metadata": {
    "collapsed": false
   },
   "outputs": [
    {
     "name": "stdout",
     "output_type": "stream",
     "text": [
      "(3.3607819080352783, 50.72349166870117, 7.227095127105692, 53.55458450317387)\n"
     ]
    }
   ],
   "source": [
    "shapefilename = 'NLD_adm_shp/NLD_adm1'\n",
    "shp = fiona.open(shapefilename+'.shp')\n",
    "coords = shp.bounds\n",
    "shp.close()\n",
    "\n",
    "w, h = coords[2] - coords[0], coords[3] - coords[1]\n",
    "extra = 0.01\n",
    "print(coords)\n",
    "print('w = {}, h = {}'.format(w, h))"
   ]
  },
  {
   "cell_type": "code",
   "execution_count": 5,
   "metadata": {
    "collapsed": false
   },
   "outputs": [],
   "source": [
    "m = Basemap(\n",
    "    projection='tmerc', ellps='WGS84',\n",
    "    lon_0=np.mean([coords[0], coords[2]]),\n",
    "    lat_0=np.mean([coords[1], coords[3]]),\n",
    "    llcrnrlon=coords[0] - extra * w,\n",
    "    llcrnrlat=coords[1] - (extra * h), \n",
    "    urcrnrlon=coords[2] + extra * w,\n",
    "    urcrnrlat=coords[3] + (extra * h),\n",
    "    resolution='i',  suppress_ticks=True)\n",
    "\n",
    "_out = m.readshapefile(shapefilename, name='china', drawbounds=False, color='none', zorder=2)"
   ]
  },
  {
   "cell_type": "code",
   "execution_count": null,
   "metadata": {
    "collapsed": false
   },
   "outputs": [],
   "source": [
    "# set up a map dataframe\n",
    "df_map = pd.DataFrame({\n",
    "    'poly': [Polygon(hood_points) for hood_points in m.china],\n",
    "    'name': [hood['NAME_1'] for hood in m.china_info]\n",
    "})\n",
    "\n",
    "# Convert our latitude and longitude into Basemap cartesian map coordinates\n",
    "mapped_points = pd.Series(\n",
    "    [Point(m(mapped_x, mapped_y)) for mapped_x, mapped_y in zip(ld['longitude'], ld['latitude'])])\n",
    "all_points = MultiPoint(list(mapped_points.values))\n",
    "hood_polygons = prep(MultiPolygon(list(df_map['poly'].values)))\n",
    "city_points = filter(hood_polygons.contains, all_points)"
   ]
  },
  {
   "cell_type": "code",
   "execution_count": null,
   "metadata": {
    "collapsed": false
   },
   "outputs": [],
   "source": [
    "df_map['hood_count'] = df_map['poly'].map(lambda x: int(len(list(filter(prep(x).contains, all_points)))))\n",
    "df_map['hood_hours'] = df_map.hood_count/1."
   ]
  },
  {
   "cell_type": "code",
   "execution_count": 7,
   "metadata": {
    "collapsed": false
   },
   "outputs": [
    {
     "ename": "NameError",
     "evalue": "name 'df_map' is not defined",
     "output_type": "error",
     "traceback": [
      "\u001b[0;31m---------------------------------------------------------------------------\u001b[0m",
      "\u001b[0;31mNameError\u001b[0m                                 Traceback (most recent call last)",
      "\u001b[0;32m<ipython-input-7-1b0d89f6be73>\u001b[0m in \u001b[0;36m<module>\u001b[0;34m()\u001b[0m\n\u001b[1;32m     10\u001b[0m             \u001b[0;32mreturn\u001b[0m \u001b[0mi\u001b[0m\u001b[0;34m\u001b[0m\u001b[0m\n\u001b[1;32m     11\u001b[0m     \u001b[0;32mreturn\u001b[0m \u001b[0;34m-\u001b[0m\u001b[0;36m1\u001b[0m\u001b[0;34m\u001b[0m\u001b[0m\n\u001b[0;32m---> 12\u001b[0;31m \u001b[0mdf_map\u001b[0m\u001b[0;34m[\u001b[0m\u001b[0;34m'jenks_bins'\u001b[0m\u001b[0;34m]\u001b[0m \u001b[0;34m=\u001b[0m \u001b[0mdf_map\u001b[0m\u001b[0;34m.\u001b[0m\u001b[0mhood_hours\u001b[0m\u001b[0;34m.\u001b[0m\u001b[0mapply\u001b[0m\u001b[0;34m(\u001b[0m\u001b[0mself_categorize\u001b[0m\u001b[0;34m,\u001b[0m \u001b[0margs\u001b[0m\u001b[0;34m=\u001b[0m\u001b[0;34m(\u001b[0m\u001b[0mbreaks\u001b[0m\u001b[0;34m,\u001b[0m\u001b[0;34m)\u001b[0m\u001b[0;34m)\u001b[0m\u001b[0;34m\u001b[0m\u001b[0m\n\u001b[0m\u001b[1;32m     13\u001b[0m \u001b[0;34m\u001b[0m\u001b[0m\n\u001b[1;32m     14\u001b[0m \u001b[0mjenks_labels\u001b[0m \u001b[0;34m=\u001b[0m \u001b[0;34m[\u001b[0m\u001b[0;34m'Never been\\nhere'\u001b[0m\u001b[0;34m]\u001b[0m\u001b[0;34m+\u001b[0m\u001b[0;34m[\u001b[0m\u001b[0;34m\"> %d hours\"\u001b[0m\u001b[0;34m%\u001b[0m\u001b[0;34m(\u001b[0m\u001b[0mperc\u001b[0m\u001b[0;34m)\u001b[0m \u001b[0;32mfor\u001b[0m \u001b[0mperc\u001b[0m \u001b[0;32min\u001b[0m \u001b[0mbreaks\u001b[0m\u001b[0;34m[\u001b[0m\u001b[0;34m:\u001b[0m\u001b[0;34m-\u001b[0m\u001b[0;36m1\u001b[0m\u001b[0;34m]\u001b[0m\u001b[0;34m]\u001b[0m\u001b[0;34m\u001b[0m\u001b[0m\n",
      "\u001b[0;31mNameError\u001b[0m: name 'df_map' is not defined"
     ]
    }
   ],
   "source": [
    "# Check out the full post at http://beneathdata.com/how-to/visualizing-my-location-history/\n",
    "# to utilize the code below\n",
    "\n",
    "# We'll only use a handful of distinct colors for our choropleth. So pick where\n",
    "# you want your cutoffs to occur. Leave zero and ~infinity alone.\n",
    "breaks = [0.] + [4., 16., 64.] + [1e20]\n",
    "def self_categorize(entry, breaks):\n",
    "    for i in range(len(breaks)-1):\n",
    "        if entry > breaks[i] and entry <= breaks[i+1]:\n",
    "            return i\n",
    "    return -1\n",
    "df_map['jenks_bins'] = df_map.hood_hours.apply(self_categorize, args=(breaks,))\n",
    "\n",
    "jenks_labels = ['Never been\\nhere']+[\"> %d hours\"%(perc) for perc in breaks[:-1]]\n",
    "\n",
    "# Or, you could always use Natural_Breaks to calculate your breaks for you:\n",
    "# from pysal.esda.mapclassify import Natural_Breaks\n",
    "# breaks = Natural_Breaks(df_map[df_map['hood_hours'] >= 0].hood_hours, initial=300, k=3)\n",
    "# df_map['jenks_bins'] = -1 #default value if no data exists for this bin\n",
    "# df_map['jenks_bins'][df_map.hood_count > 0] = breaks.yb\n",
    "\n",
    "# jenks_labels = ['Never been here', \"> 0 hours\"]+[\"> %d hours\"%(perc) for perc in breaks.bins[:-1]]\n",
    "\n",
    "def custom_colorbar(cmap, ncolors, labels, **kwargs):    \n",
    "    \"\"\"Create a custom, discretized colorbar with correctly formatted/aligned labels.\n",
    "    \n",
    "    cmap: the matplotlib colormap object you plan on using for your graph\n",
    "    ncolors: (int) the number of discrete colors available\n",
    "    labels: the list of labels for the colorbar. Should be the same length as ncolors.\n",
    "    \"\"\"\n",
    "    from matplotlib.colors import BoundaryNorm\n",
    "    from matplotlib.cm import ScalarMappable\n",
    "        \n",
    "    norm = BoundaryNorm(range(0, ncolors), cmap.N)\n",
    "    mappable = ScalarMappable(cmap=cmap, norm=norm)\n",
    "    mappable.set_array([])\n",
    "    mappable.set_clim(-0.5, ncolors+0.5)\n",
    "    colorbar = plt.colorbar(mappable, **kwargs)\n",
    "    colorbar.set_ticks(np.linspace(0, ncolors, ncolors+1)+0.5)\n",
    "    colorbar.set_ticklabels(range(0, ncolors))\n",
    "    colorbar.set_ticklabels(labels)\n",
    "    return colorbar\n",
    "\n",
    "figwidth = 14\n",
    "fig = plt.figure(figsize=(figwidth, figwidth*h/w))\n",
    "ax = fig.add_subplot(111, axisbg='w', frame_on=False)\n",
    "\n",
    "cmap = plt.get_cmap('Blues')\n",
    "# draw neighborhoods with grey outlines\n",
    "df_map['patches'] = df_map['poly'].map(lambda x: PolygonPatch(x, ec='#111111', lw=.8, alpha=1., zorder=4))\n",
    "pc = PatchCollection(df_map['patches'], match_original=True)\n",
    "# apply our custom color values onto the patch collection\n",
    "cmap_list = [cmap(val) for val in (df_map.jenks_bins.values - df_map.jenks_bins.values.min())/(\n",
    "                  df_map.jenks_bins.values.max()-float(df_map.jenks_bins.values.min()))]\n",
    "pc.set_facecolor(cmap_list)\n",
    "ax.add_collection(pc)\n",
    "\n",
    "#Draw a map scale\n",
    "m.drawmapscale(coords[0] + 0.08, coords[1] + -0.01,\n",
    "    coords[0], coords[1], 100.,\n",
    "    fontsize=16, barstyle='fancy', labelstyle='simple',\n",
    "    fillcolor1='w', fillcolor2='#555555', fontcolor='#555555',\n",
    "    zorder=5, ax=ax,)\n",
    "\n",
    "# ncolors+1 because we're using a \"zero-th\" color\n",
    "my_labels = ['Never', 'Seldom', 'Sometimes', 'Often', 'Always']\n",
    "cbar = custom_colorbar(cmap, ncolors=len(jenks_labels)+1, labels=my_labels, shrink=0.5)\n",
    "cbar.ax.tick_params(labelsize=16)\n",
    "\n",
    "fig.suptitle(\"Visits in the Netherlands\", fontdict={'size':24, 'fontweight':'bold'}, y=0.95)\n",
    "# ax.set_title(\"Location data via Google\", fontsize=14, y=0.98)\n",
    "ax.text(1.35, 0.04, \"Collected by Google from 2013-2016\\nGeographic data is provided by gadm.org\", \n",
    "    ha='right', color='#555555', style='italic', transform=ax.transAxes)\n",
    "\n",
    "plt.savefig('chloropleth.png', dpi=100, frameon=False, bbox_inches='tight', pad_inches=0.5, facecolor='#F2F2F2')"
   ]
  },
  {
   "cell_type": "code",
   "execution_count": null,
   "metadata": {
    "collapsed": true
   },
   "outputs": [],
   "source": []
  }
 ],
 "metadata": {
  "kernelspec": {
   "display_name": "Python 3",
   "language": "python",
   "name": "python3"
  },
  "language_info": {
   "codemirror_mode": {
    "name": "ipython",
    "version": 3
   },
   "file_extension": ".py",
   "mimetype": "text/x-python",
   "name": "python",
   "nbconvert_exporter": "python",
   "pygments_lexer": "ipython3",
   "version": "3.5.2"
  }
 },
 "nbformat": 4,
 "nbformat_minor": 0
}
